{
 "cells": [
  {
   "cell_type": "code",
   "execution_count": 4,
   "outputs": [],
   "source": [
    "''' SCRIPT TO CONVERT JSON IN WELL FORMATTED JSON '''\n",
    "\n",
    "import json\n",
    "\n",
    "filename = 'provanovembre.json'\n",
    "\n",
    "# Leggi il file come stringa\n",
    "with open(filename, 'r',  encoding='utf-8') as f:\n",
    "    input_str = f.read()\n",
    "\n",
    "# Dividi la stringa di input in linee\n",
    "lines = input_str.strip().split('\\n')\n",
    "\n",
    "\n",
    "# Converti ogni linea in un dizionario e mettili in una lista\n",
    "data = [json.loads(line) for line in lines]\n",
    "\n",
    "# Sovrascrivi la lista di dizionari sullo stesso file JSON\n",
    "with open(filename, 'w',  encoding='utf-8') as f:\n",
    "    json.dump(data, f, indent=2)\n",
    "    \n",
    "    "
   ],
   "metadata": {
    "collapsed": false,
    "ExecuteTime": {
     "end_time": "2023-12-01T09:56:55.610119500Z",
     "start_time": "2023-12-01T09:56:52.161390800Z"
    }
   },
   "id": "fd76e920d3a0cdbb"
  },
  {
   "cell_type": "code",
   "execution_count": 3,
   "outputs": [],
   "source": [
    "import json\n",
    "\n",
    "# Carica i dati JSON\n",
    "with open('provanovembre.json', 'r') as f:\n",
    "    data = json.load(f)\n",
    "\n",
    "# Rimuovi la colonna\n",
    "for item in data:\n",
    "    if 'id_str' in item:\n",
    "        del item['id_str']\n",
    "    if 'retweeted_status' in item:\n",
    "        del item['retweeted_status']\n",
    "\n",
    "# Salva i dati JSON modificati\n",
    "with open('provanovembre.json', 'w') as f:\n",
    "    json.dump(data, f)"
   ],
   "metadata": {
    "collapsed": false,
    "ExecuteTime": {
     "end_time": "2023-12-01T09:55:52.758190100Z",
     "start_time": "2023-12-01T09:55:49.076732100Z"
    }
   },
   "id": "25fbaee684765b99"
  },
  {
   "cell_type": "code",
   "execution_count": 24,
   "outputs": [],
   "source": [
    "''' SCRIPT TO CONVERT JSON IN .csv '''\n",
    "\n",
    "import json\n",
    "import csv\n",
    "\n",
    "with open('provanovembre.json', encoding='utf-8') as json_file:\n",
    "    jsondata = json.load(json_file)\n",
    " \n",
    "data_file = open('provanovembre.csv', 'w', encoding='utf-8', newline='')\n",
    "csv_writer = csv.writer(data_file)\n",
    " \n",
    "count = 0\n",
    "for data in jsondata:\n",
    "    if count == 0:\n",
    "        header = data.keys()\n",
    "        csv_writer.writerow(header)\n",
    "        count += 1\n",
    "    csv_writer.writerow(data.values())\n",
    " \n",
    "data_file.close()"
   ],
   "metadata": {
    "collapsed": false,
    "ExecuteTime": {
     "end_time": "2023-11-30T18:07:44.911111500Z",
     "start_time": "2023-11-30T18:07:43.508806800Z"
    }
   },
   "id": "cc6c2babcbf86775"
  }
 ],
 "metadata": {
  "kernelspec": {
   "display_name": "Python 3",
   "language": "python",
   "name": "python3"
  },
  "language_info": {
   "codemirror_mode": {
    "name": "ipython",
    "version": 2
   },
   "file_extension": ".py",
   "mimetype": "text/x-python",
   "name": "python",
   "nbconvert_exporter": "python",
   "pygments_lexer": "ipython2",
   "version": "2.7.6"
  }
 },
 "nbformat": 4,
 "nbformat_minor": 5
}
