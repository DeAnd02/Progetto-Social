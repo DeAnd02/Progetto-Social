{
 "cells": [
  {
   "cell_type": "code",
   "execution_count": 14,
   "outputs": [],
   "source": [
    "''' SCRIPT TO CONVERT JSON IN WELL FORMATTED JSON '''\n",
    "\n",
    "import json\n",
    "\n",
    "filename = 'provanovembre.json'\n",
    "\n",
    "# Leggi il file come stringa\n",
    "with open(filename, 'r',  encoding='utf-8') as f:\n",
    "    input_str = f.read()\n",
    "\n",
    "# Dividi la stringa di input in linee\n",
    "lines = input_str.strip().split('\\n')\n",
    "\n",
    "\n",
    "# Converti ogni linea in un dizionario e mettili in una lista\n",
    "data_list = [json.loads(line) for line in lines]\n",
    "\n",
    "''' EXTRACT FIELD 'user' '''\n",
    "for data in data_list:\n",
    "    data.update(data.pop('user'))\n",
    "\n",
    "# Sovrascrivi la lista di dizionari sullo stesso file JSON\n",
    "with open(filename, 'w',  encoding='utf-8') as f:\n",
    "    json.dump(data_list, f, indent=2)\n",
    "    \n",
    "    "
   ],
   "metadata": {
    "collapsed": false,
    "ExecuteTime": {
     "end_time": "2023-12-05T19:12:21.664724100Z",
     "start_time": "2023-12-05T19:12:19.800255700Z"
    }
   },
   "id": "fd76e920d3a0cdbb"
  },
  {
   "cell_type": "code",
   "execution_count": 1,
   "outputs": [],
   "source": [
    "''' SCRIPT TO DELETE COLUMNS'''\n",
    "import json\n",
    "\n",
    "# Carica i dati JSON\n",
    "with open('provanovembre.json', 'r') as f:\n",
    "    data = json.load(f)\n",
    "\n",
    "var = ['utc_offset','time_zone','profile_background_color','profile_background_image_url','profile_background_image_url_https','profile_background_tile','profile_link_color','profile_sidebar_border_color','profile_sidebar_fill_color','profile_text_color','profile_use_background_image', 'profile_image_url','profile_image_url_https','profile_banner_url','default_profile','default_profile_image','follow_request_sent','notifications','withheld_in_countries','filter_level']\n",
    "\n",
    "# Rimuovi la colonna\n",
    "for item in data:\n",
    "    if 'retweeted_status' in item:\n",
    "         del item['retweeted_status']\n",
    "    if 'entities' in item:\n",
    "        del item['entities']\n",
    "    if 'extended_entities' in item:\n",
    "        del item['extended_entities']\n",
    "    if 'extended_tweet' in item:\n",
    "        del item['extended_tweet']\n",
    "    if 'display_text_range' in item:\n",
    "        del item['display_text_range']\n",
    "    if 'quoted_status' in item:\n",
    "        del item['quoted_status']\n",
    "    if 'quoted_status_permalink' in item:\n",
    "        del item['quoted_status_permalink']\n",
    "    if 'quoted_status_id_str' in item:\n",
    "        del item['quoted_status_id_str']\n",
    "    if 'quoted_status_id' in item:\n",
    "        del item['quoted_status_id']\n",
    "    if 'geo' in item:\n",
    "        del item['geo']\n",
    "    if 'possibly_sensitive' in item:\n",
    "        del item['possibly_sensitive']\n",
    "    for var_to_delete in var:\n",
    "        if var_to_delete in item:\n",
    "            del item[var_to_delete]\n",
    "\n",
    "\n",
    "with open('provanovembre.json', 'w') as f:\n",
    "    json.dump(data, f,indent=2)"
   ],
   "metadata": {
    "collapsed": false,
    "ExecuteTime": {
     "end_time": "2023-12-12T17:39:46.472174500Z",
     "start_time": "2023-12-12T17:39:45.785098900Z"
    }
   },
   "id": "25fbaee684765b99"
  },
  {
   "cell_type": "code",
   "execution_count": 16,
   "outputs": [],
   "source": [
    "''' SCRIPT TO CONVERT JSON IN .csv '''\n",
    "\n",
    "import json\n",
    "import csv\n",
    "\n",
    "with open('provanovembre.json', encoding='utf-8') as json_file:\n",
    "    jsondata = json.load(json_file)\n",
    " \n",
    "data_file = open('provanovembre.csv', 'w', encoding='utf-8', newline='')\n",
    "csv_writer = csv.writer(data_file)\n",
    " \n",
    "count = 0\n",
    "for data in jsondata:\n",
    "    if count == 0:\n",
    "        header = data.keys()\n",
    "        csv_writer.writerow(header)\n",
    "        count += 1\n",
    "    csv_writer.writerow(data.values())\n",
    " \n",
    "data_file.close()\n"
   ],
   "metadata": {
    "collapsed": false,
    "ExecuteTime": {
     "end_time": "2023-12-05T19:14:30.649310700Z",
     "start_time": "2023-12-05T19:14:30.486708700Z"
    }
   },
   "id": "cc6c2babcbf86775"
  },
  {
   "cell_type": "code",
   "execution_count": null,
   "outputs": [],
   "source": [
    "import pandas as pd\n",
    "import numpy as np\n",
    "import re\n",
    "import seaborn as sns\n",
    "import matplotlib.pyplot as plt\n",
    "from matplotlib import style\n",
    "style.use('ggplot')\n",
    "from textblob import TextBlob\n",
    "from nltk.tokenize import word_tokenize\n",
    "from nltk.stem import PorterStemmer\n",
    "from nltk.corpus import stopwords\n",
    "stop_words = set(stopwords.words('english'))\n",
    "from wordcloud import WordCloud\n",
    "from sklearn.feature_extraction.text import CountVectorizer\n",
    "from sklearn.model_selection import train_test_split\n",
    "from sklearn.linear_model import LogisticRegression\n",
    "from sklearn.metrics import accuracy_score, classification_report, confusion_matrix, ConfusionMatrixDisplay"
   ],
   "metadata": {
    "collapsed": false
   },
   "id": "99f3d232f7a522af"
  }
 ],
 "metadata": {
  "kernelspec": {
   "display_name": "Python 3",
   "language": "python",
   "name": "python3"
  },
  "language_info": {
   "codemirror_mode": {
    "name": "ipython",
    "version": 2
   },
   "file_extension": ".py",
   "mimetype": "text/x-python",
   "name": "python",
   "nbconvert_exporter": "python",
   "pygments_lexer": "ipython2",
   "version": "2.7.6"
  }
 },
 "nbformat": 4,
 "nbformat_minor": 5
}
